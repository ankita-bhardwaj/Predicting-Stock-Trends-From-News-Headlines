{
 "cells": [
  {
   "cell_type": "code",
   "execution_count": 1,
   "metadata": {},
   "outputs": [],
   "source": [
    "import requests\n",
    "from bs4 import BeautifulSoup"
   ]
  },
  {
   "cell_type": "code",
   "execution_count": 2,
   "metadata": {},
   "outputs": [],
   "source": [
    "url = \"https://finviz.com/quote.ashx?t=fb\"\n",
    "response=requests.get(url)\n",
    "soup=BeautifulSoup(response.content,\"lxml\")"
   ]
  },
  {
   "cell_type": "code",
   "execution_count": 3,
   "metadata": {},
   "outputs": [],
   "source": [
    "body=soup.find_all('table',class_='fullview-news-outer')"
   ]
  },
  {
   "cell_type": "code",
   "execution_count": 4,
   "metadata": {},
   "outputs": [],
   "source": [
    "l=list()\n",
    "for x in body:\n",
    "    l.append(x.find_all('td'))"
   ]
  },
  {
   "cell_type": "code",
   "execution_count": 5,
   "metadata": {},
   "outputs": [],
   "source": [
    "l=l[0]"
   ]
  },
  {
   "cell_type": "code",
   "execution_count": 6,
   "metadata": {},
   "outputs": [],
   "source": [
    "l1=list()\n",
    "l2=list()\n",
    "l3=list()"
   ]
  },
  {
   "cell_type": "code",
   "execution_count": 7,
   "metadata": {},
   "outputs": [],
   "source": [
    "for x in range(len(l)):\n",
    "    if x%2==0:\n",
    "        l1.append(l[x].text)\n",
    "    else:\n",
    "        l2.append(l[x].find('a').text)\n",
    "        l3.append(l[x].find('span').text)"
   ]
  },
  {
   "cell_type": "code",
   "execution_count": 8,
   "metadata": {},
   "outputs": [
    {
     "data": {
      "text/plain": [
       "['MarketWatch',\n",
       " 'MarketWatch',\n",
       " 'Decrypt',\n",
       " 'Decrypt',\n",
       " 'Bloomberg',\n",
       " 'Motley Fool',\n",
       " 'MarketWatch',\n",
       " 'MarketWatch',\n",
       " 'Financial Times',\n",
       " 'Financial Times',\n",
       " 'Reuters',\n",
       " 'Reuters',\n",
       " 'Bloomberg',\n",
       " 'InvestorPlace',\n",
       " 'Bloomberg',\n",
       " 'Zacks',\n",
       " 'Quartz',\n",
       " \"Investor's Business Daily\",\n",
       " 'Barrons.com',\n",
       " 'MarketWatch',\n",
       " 'Reuters',\n",
       " \"Investor's Business Daily\",\n",
       " 'Reuters',\n",
       " 'MarketWatch',\n",
       " 'Athena Preview',\n",
       " 'American City Business Journals',\n",
       " 'TheStreet.com',\n",
       " 'Kiplinger',\n",
       " 'Motley Fool',\n",
       " 'TheStreet.com',\n",
       " 'MarketWatch',\n",
       " 'MarketWatch',\n",
       " 'Investing.com',\n",
       " \"Investor's Business Daily\",\n",
       " 'American City Business Journals',\n",
       " 'Bloomberg',\n",
       " 'Barrons.com',\n",
       " 'Motley Fool',\n",
       " 'Bloomberg',\n",
       " 'Benzinga',\n",
       " 'Motley Fool',\n",
       " 'MarketWatch',\n",
       " 'Financial Times',\n",
       " 'Financial Times',\n",
       " 'Financial Times',\n",
       " 'Bloomberg',\n",
       " 'Bloomberg',\n",
       " 'Decrypt',\n",
       " 'Bloomberg',\n",
       " 'TheStreet.com',\n",
       " 'Financial Times',\n",
       " 'TheStreet.com',\n",
       " 'Bloomberg',\n",
       " 'Bloomberg',\n",
       " 'Financial Times',\n",
       " 'Investing.com',\n",
       " 'Bloomberg',\n",
       " 'Quartz',\n",
       " 'Bloomberg',\n",
       " 'Reuters',\n",
       " 'Zacks',\n",
       " 'MarketWatch',\n",
       " 'American City Business Journals',\n",
       " 'Bloomberg',\n",
       " 'TheStreet.com',\n",
       " 'MarketWatch',\n",
       " 'MarketWatch',\n",
       " 'MarketWatch',\n",
       " 'Motley Fool',\n",
       " 'Bloomberg',\n",
       " 'Bloomberg',\n",
       " 'Bloomberg',\n",
       " 'Reuters',\n",
       " 'TheStreet.com',\n",
       " 'Zacks',\n",
       " 'Reuters',\n",
       " 'MarketWatch',\n",
       " 'Reuters',\n",
       " 'Reuters',\n",
       " 'American City Business Journals',\n",
       " 'Reuters',\n",
       " 'Motley Fool',\n",
       " 'American City Business Journals',\n",
       " 'MarketWatch',\n",
       " \"Investor's Business Daily\",\n",
       " 'Reuters',\n",
       " 'InvestorPlace',\n",
       " 'TheStreet.com',\n",
       " 'Bloomberg',\n",
       " 'MarketWatch',\n",
       " 'Barrons.com',\n",
       " 'Decrypt',\n",
       " 'Quartz',\n",
       " 'Reuters',\n",
       " 'Reuters',\n",
       " 'TipRanks',\n",
       " 'Bloomberg',\n",
       " 'TheStreet.com',\n",
       " 'Bloomberg',\n",
       " 'Investing.com']"
      ]
     },
     "execution_count": 8,
     "metadata": {},
     "output_type": "execute_result"
    }
   ],
   "source": [
    "l3"
   ]
  },
  {
   "cell_type": "code",
   "execution_count": 9,
   "metadata": {},
   "outputs": [],
   "source": [
    "import pandas as pd\n",
    "df=pd.DataFrame()"
   ]
  },
  {
   "cell_type": "code",
   "execution_count": 10,
   "metadata": {},
   "outputs": [],
   "source": [
    "df['date']=l1\n",
    "df['headline']=l2\n",
    "df['source']=l3"
   ]
  },
  {
   "cell_type": "code",
   "execution_count": 11,
   "metadata": {},
   "outputs": [],
   "source": [
    "st=\" \"\n",
    "for x in l2[0:10]:\n",
    "    st=st+x+\" \""
   ]
  },
  {
   "cell_type": "code",
   "execution_count": 12,
   "metadata": {},
   "outputs": [
    {
     "data": {
      "text/plain": [
       "\" Big Tech can expect another grilling on Capitol Hill Facebook stock hits highest price in nearly a year after reports of $5 billion FTC fine Facebooks $5 billion fine doesnt bode well for Libra Donald Trump blasts Bitcoin, Facebooks Libra in Twitter tirade Facebook's Watchdog Has a Chance to Follow the Money Better Buy: Amazon vs. Facebook Donald Trump is right about bitcoin Tech earnings are a test amid tumultuous times, and all the chips are on the table Facebook/FTC: give me five FTC approves $5bn settlement with Facebook \""
      ]
     },
     "execution_count": 12,
     "metadata": {},
     "output_type": "execute_result"
    }
   ],
   "source": [
    "st"
   ]
  },
  {
   "cell_type": "code",
   "execution_count": 13,
   "metadata": {},
   "outputs": [
    {
     "name": "stderr",
     "output_type": "stream",
     "text": [
      "C:\\Users\\Ankita Bhardwaj\\Anaconda3\\lib\\site-packages\\nltk\\twitter\\__init__.py:20: UserWarning: The twython library has not been installed. Some functionality from the twitter package will not be available.\n",
      "  warnings.warn(\"The twython library has not been installed. \"\n"
     ]
    }
   ],
   "source": [
    "# NLTK VADER for sentiment analysis\n",
    "from nltk.sentiment.vader import SentimentIntensityAnalyzer\n",
    "\n",
    "# New words and values\n",
    "new_words = {\n",
    "    'crushes': 10,\n",
    "    'beats': 5,\n",
    "    'misses': -5,\n",
    "    'trouble': -10,\n",
    "    'falls': -100,\n",
    "}\n"
   ]
  },
  {
   "cell_type": "code",
   "execution_count": 14,
   "metadata": {},
   "outputs": [],
   "source": [
    "import nltk"
   ]
  },
  {
   "cell_type": "code",
   "execution_count": 15,
   "metadata": {},
   "outputs": [
    {
     "name": "stdout",
     "output_type": "stream",
     "text": [
      "[nltk_data] Downloading package vader_lexicon to C:\\Users\\Ankita\n",
      "[nltk_data]     Bhardwaj\\AppData\\Roaming\\nltk_data...\n",
      "[nltk_data]   Package vader_lexicon is already up-to-date!\n"
     ]
    }
   ],
   "source": [
    "import nltk\n",
    "nltk.download('vader_lexicon')\n",
    "vader = SentimentIntensityAnalyzer()\n",
    "\n",
    "vader.lexicon.update(new_words)"
   ]
  },
  {
   "cell_type": "code",
   "execution_count": 16,
   "metadata": {},
   "outputs": [
    {
     "data": {
      "text/plain": [
       "{'neg': 0.019, 'neu': 0.843, 'pos': 0.138, 'compound': 0.8437}"
      ]
     },
     "execution_count": 16,
     "metadata": {},
     "output_type": "execute_result"
    }
   ],
   "source": [
    "vader.polarity_scores(st)"
   ]
  },
  {
   "cell_type": "code",
   "execution_count": null,
   "metadata": {},
   "outputs": [],
   "source": [
    "#This shows that the headlines are more towards positive side and prices of the stock may be not drop tomorrow."
   ]
  }
 ],
 "metadata": {
  "kernelspec": {
   "display_name": "Python 3",
   "language": "python",
   "name": "python3"
  },
  "language_info": {
   "codemirror_mode": {
    "name": "ipython",
    "version": 3
   },
   "file_extension": ".py",
   "mimetype": "text/x-python",
   "name": "python",
   "nbconvert_exporter": "python",
   "pygments_lexer": "ipython3",
   "version": "3.7.0"
  }
 },
 "nbformat": 4,
 "nbformat_minor": 2
}
